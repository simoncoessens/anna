{
 "cells": [
  {
   "cell_type": "code",
   "execution_count": 60,
   "metadata": {},
   "outputs": [],
   "source": [
    "from pydantic import BaseModel, Field\n",
    "from typing import Literal\n",
    "from dotenv import load_dotenv, find_dotenv\n",
    "from IPython.display import Image, display\n",
    "\n",
    "from langchain_core.messages import AIMessage, HumanMessage\n",
    "from langchain_core.prompts import PromptTemplate\n",
    "from langchain_openai import ChatOpenAI\n",
    "\n",
    "from langgraph.graph import MessagesState, StateGraph, START, END\n",
    "from langgraph.checkpoint.memory import MemorySaver\n"
   ]
  },
  {
   "cell_type": "code",
   "execution_count": 61,
   "metadata": {},
   "outputs": [
    {
     "data": {
      "text/plain": [
       "True"
      ]
     },
     "execution_count": 61,
     "metadata": {},
     "output_type": "execute_result"
    }
   ],
   "source": [
    "load_dotenv(find_dotenv())"
   ]
  },
  {
   "cell_type": "code",
   "execution_count": 62,
   "metadata": {},
   "outputs": [],
   "source": [
    "gpt = ChatOpenAI(model=\"gpt-4o\", temperature=0)"
   ]
  },
  {
   "cell_type": "code",
   "execution_count": 63,
   "metadata": {},
   "outputs": [],
   "source": [
    "class Q1_SubquestionAnswers(BaseModel):\n",
    "    q1: Literal[True, False, None] = Field(None, description=\"Is the system a machine-based system?\")\n",
    "    q2: Literal[True, False, None] = Field(None, description=\"May the system exhibit adaptiveness after deployment?\")\n",
    "    q3: Literal[True, False, None] = Field(None, description=\"Is it capable of inferring how to generate outputs?\")\n",
    "    q4: Literal[True, False, None] = Field(None, description=\"Can the system outputs influence environments?\")\n",
    "    q5: Literal[True, False, None] = Field(None, description=\"Is the system designed with varying autonomy levels?\")\n",
    "\n",
    "    def all(self):\n",
    "        return all([self.q1, self.q2, self.q3, self.q4, self.q5])\n",
    "    \n",
    "    def all_not(self):\n",
    "        return all([not self.q1, not self.q2, not self.q3, not self.q4, not self.q5])\n",
    "    \n",
    "    def __iter__(self):\n",
    "        for attr in ['q1', 'q2', 'q3', 'q4', 'q5']:\n",
    "            yield getattr(self, attr)"
   ]
  },
  {
   "cell_type": "code",
   "execution_count": 64,
   "metadata": {},
   "outputs": [],
   "source": [
    "prompt = \"\"\"\n",
    "Analyze the user's response to determine if it contains a clear, direct answer to each of the following questions. Only respond with:\n",
    "- \"True\" if the response explicitly and directly confirms the answer to the question without needing assumptions.\n",
    "- \"False\" if the response explicitly denies the answer.\n",
    "- \"None\" if there is no clear and explicit information in the response to answer the question.\n",
    "\n",
    "Questions:\n",
    "1. Is the system a machine-based system?\n",
    "2. May the system exhibit adaptiveness after deployment?\n",
    "3. Is it capable, for explicit or implicit objectives, of inferring, from the input it receives, how to generate outputs such as predictions, content, recommendations, or decisions?\n",
    "4. Can the system outputs influence physical or virtual environments?\n",
    "5. Is the system designed to operate with varying levels of autonomy?\n",
    "\n",
    "Be cautious to only answer \"True\" or \"False\" where there is explicit, unambiguous information in the user's response, and use \"None\" if the answer is not directly clear.\n",
    "\n",
    "Question: What type of system are you developing?\n",
    "User's response: {response}\n",
    "\"\"\".strip()\n",
    "\n",
    "prompt_template = PromptTemplate(input_variables=[\"response\"], template=prompt)\n",
    "llm_q1 = gpt.with_structured_output(Q1_SubquestionAnswers)\n",
    "q1_chain = prompt_template | llm_q1"
   ]
  },
  {
   "cell_type": "code",
   "execution_count": 65,
   "metadata": {},
   "outputs": [],
   "source": [
    "class GraphState(MessagesState):\n",
    "    subquestion_answers: Q1_SubquestionAnswers"
   ]
  },
  {
   "cell_type": "code",
   "execution_count": 66,
   "metadata": {},
   "outputs": [],
   "source": [
    "# Define the function to process the user's response\n",
    "def process_response(state: GraphState) -> GraphState:\n",
    "    messages = state[\"messages\"]\n",
    "    # user response is every even number message\n",
    "    user_response = \"\"\n",
    "    for i in range(0, len(messages), 2):\n",
    "        user_response += messages[i].content + \"\\n\"\n",
    "    sub_answers_new = q1_chain.invoke({\"response\": user_response})\n",
    "    if \"subquestion_answers\" in state:\n",
    "        sub_answers_existing = state[\"subquestion_answers\"]\n",
    "    else:\n",
    "        sub_answers_existing = Q1_SubquestionAnswers()\n",
    "    for attr in ['q1', 'q2', 'q3', 'q4', 'q5']:\n",
    "        if not getattr(sub_answers_existing, attr):\n",
    "            setattr(sub_answers_existing, attr, getattr(sub_answers_new, attr))\n",
    "    return {\"subquestion_answers\": sub_answers_existing}\n",
    "\n",
    "\n",
    "# Define the function to check if all subquestions are answered\n",
    "def check_completion(state: GraphState) -> bool:\n",
    "    answers = state[\"subquestion_answers\"]\n",
    "    all_not_none = all([answer is not None for answer in answers])\n",
    "    return all_not_none\n",
    "\n",
    "\n",
    "# Define the function to inform the user about vague parts\n",
    "def inform_user(state: GraphState) -> str:\n",
    "    vague_parts = [\n",
    "        f\"{desc}\"\n",
    "        for desc, answer in zip(\n",
    "            [\n",
    "                \"Is the system a machine-based system?\",\n",
    "                \"May the system exhibit adaptiveness after deployment?\",\n",
    "                \"Is it capable of inferring how to generate outputs?\",\n",
    "                \"Can the system outputs influence environments?\",\n",
    "                \"Is the system designed with varying autonomy levels?\",\n",
    "            ],\n",
    "            state[\"subquestion_answers\"],\n",
    "        )\n",
    "        if answer is None\n",
    "    ]\n",
    "    vague_str = \"\\n\".join(vague_parts)\n",
    "    suggestion = (\n",
    "        \"The following parts of your description are vague or unclear:\\n\"\n",
    "        f\"{vague_str}\\n\\n\"\n",
    "        \"Please provide more details to clarify these aspects.\"\n",
    "    )\n",
    "    return {\"messages\": AIMessage(content=suggestion)}"
   ]
  },
  {
   "cell_type": "code",
   "execution_count": 67,
   "metadata": {},
   "outputs": [
    {
     "data": {
      "image/png": "[encoded data removed]",
      "text/plain": [
       "<IPython.core.display.Image object>"
      ]
     },
     "metadata": {},
     "output_type": "display_data"
    }
   ],
   "source": [
    "# Initialize the StateGraph\n",
    "graph_builder = StateGraph(GraphState)\n",
    "\n",
    "# Add nodes to the graph\n",
    "graph_builder.add_node(\"process_response\", process_response)\n",
    "graph_builder.add_node(\"inform_user\", inform_user)\n",
    "\n",
    "# Define the edges with conditions\n",
    "graph_builder.add_edge(START, \"process_response\")\n",
    "graph_builder.add_conditional_edges(\"process_response\", check_completion, {True: END, False: \"inform_user\"})\n",
    "graph_builder.add_edge(\"inform_user\", END)\n",
    "\n",
    "# Compile the graph\n",
    "memory = MemorySaver()\n",
    "graph = graph_builder.compile(checkpointer=memory)\n",
    "display(Image(graph.get_graph(xray=True).draw_mermaid_png()))"
   ]
  },
  {
   "cell_type": "code",
   "execution_count": 68,
   "metadata": {},
   "outputs": [
    {
     "name": "stdout",
     "output_type": "stream",
     "text": [
      "================================\u001b[1m Human Message \u001b[0m=================================\n",
      "\n",
      "I am building a legal chatbot for helping students of law.\n",
      "==================================\u001b[1m Ai Message \u001b[0m==================================\n",
      "\n",
      "The following parts of your description are vague or unclear:\n",
      "May the system exhibit adaptiveness after deployment?\n",
      "Is the system designed with varying autonomy levels?\n",
      "\n",
      "Please provide more details to clarify these aspects.\n"
     ]
    }
   ],
   "source": [
    "prompt_input = \"I am building a legal chatbot for helping students of law.\"\n",
    "config = {\"configurable\": {\"thread_id\": 1}}\n",
    "result = graph.invoke({\"messages\": [HumanMessage(prompt_input)]}, config=config)\n",
    "for m in result['messages']:\n",
    "    m.pretty_print()"
   ]
  },
  {
   "cell_type": "code",
   "execution_count": 69,
   "metadata": {},
   "outputs": [
    {
     "name": "stdout",
     "output_type": "stream",
     "text": [
      "================================\u001b[1m Human Message \u001b[0m=================================\n",
      "\n",
      "I am building a legal chatbot for helping students of law.\n",
      "==================================\u001b[1m Ai Message \u001b[0m==================================\n",
      "\n",
      "The following parts of your description are vague or unclear:\n",
      "May the system exhibit adaptiveness after deployment?\n",
      "Is the system designed with varying autonomy levels?\n",
      "\n",
      "Please provide more details to clarify these aspects.\n",
      "================================\u001b[1m Human Message \u001b[0m=================================\n",
      "\n",
      "The system adapts and can affect the environment and infers how to generate the output by observing the history. I can configure how autonomous I want it to be.\n"
     ]
    }
   ],
   "source": [
    "result2 = graph.invoke(\n",
    "    {\n",
    "        \"messages\": [\n",
    "            HumanMessage(\n",
    "                \"The system adapts and can affect the environment and infers how to generate the output by observing the history. I can configure how autonomous I want it to be.\"\n",
    "            )\n",
    "        ]\n",
    "    },\n",
    "    config=config,\n",
    ")\n",
    "for m in result2['messages']:\n",
    "    m.pretty_print()"
   ]
  },
  {
   "cell_type": "code",
   "execution_count": 70,
   "metadata": {},
   "outputs": [],
   "source": [
    "class Q2_SubquestionAnswers(BaseModel):\n",
    "    q1: Literal[True, False, None] = Field(None, description=\"Are you placing your AI system on the market or putting it into service in the European Union?\")\n",
    "    q2: Literal[True, False, None] = Field(None, description=\"Are you established or are located in a third country, but the output produced by your AI system is used in the European Union?\")"
   ]
  },
  {
   "cell_type": "code",
   "execution_count": 71,
   "metadata": {},
   "outputs": [],
   "source": [
    "prompt = \"\"\"\n",
    "Based on the user's response, answer each of the below two questions with True, False, or None based on the information provided. If details are lacking, respond with None.\n",
    "\n",
    "<Questions>\n",
    "- Are you placing your AI system on the market or putting it into service in the European Union?\n",
    "- Are you established or are located in a third country, but the output produced by your AI system is used in the European Union?\n",
    "</Questions>\n",
    "<User Response>\n",
    "{response}\n",
    "</User Response>\n",
    "\"\"\".strip()\n",
    "\n",
    "prompt_template = PromptTemplate(input_variables=[\"response\"], template=prompt)\n",
    "llm_q2 = gpt.with_structured_output(Q2_SubquestionAnswers)\n",
    "q2_chain = prompt_template | llm_q2"
   ]
  },
  {
   "cell_type": "code",
   "execution_count": 72,
   "metadata": {},
   "outputs": [],
   "source": [
    "class GraphState_Q2(MessagesState):\n",
    "    subquestion_answers: Q2_SubquestionAnswers\n",
    "\n",
    "\n",
    "def process_response_q2(state: GraphState_Q2) -> GraphState_Q2:\n",
    "    messages = state[\"messages\"]\n",
    "    # user response is every odd number message\n",
    "    user_response = \"\"\n",
    "    for i in range(1, len(messages), 2):\n",
    "        user_response += messages[i].content + \"\\n\"\n",
    "    sub_answers_new = q2_chain.invoke({\"response\": user_response})\n",
    "    if \"subquestion_answers\" in state:\n",
    "        sub_answers_existing = state[\"subquestion_answers\"]\n",
    "    else:\n",
    "        sub_answers_existing = Q2_SubquestionAnswers()\n",
    "    for attr in [\"q1\", \"q2\"]:\n",
    "        if not getattr(sub_answers_existing, attr):\n",
    "            setattr(sub_answers_existing, attr, getattr(sub_answers_new, attr))\n",
    "    return {\"subquestion_answers\": sub_answers_existing}\n",
    "\n",
    "\n",
    "def check_completion_q2(state: GraphState_Q2) -> bool:\n",
    "    answers = state[\"subquestion_answers\"]\n",
    "    any_not_none = answers.q1 is not None or answers.q2 is not None\n",
    "    return any_not_none\n",
    "\n",
    "\n",
    "def inform_user_q2(state: GraphState_Q2) -> str:\n",
    "    suggestion = \"I couldn't understand your response. To help me understand how your AI system is used, could you let me know if it's connected in any way to the European Union—either by being sold, serviced, or having its output used there?\"\n",
    "    return {\"messages\": AIMessage(content=suggestion)}"
   ]
  },
  {
   "cell_type": "code",
   "execution_count": 73,
   "metadata": {},
   "outputs": [
    {
     "data": {
      "image/png": "[encoded data removed]",
      "text/plain": [
       "<IPython.core.display.Image object>"
      ]
     },
     "metadata": {},
     "output_type": "display_data"
    }
   ],
   "source": [
    "# Initialize the StateGraph\n",
    "graph_builder_q2 = StateGraph(GraphState_Q2)\n",
    "\n",
    "# Add nodes to the graph\n",
    "graph_builder_q2.add_node(\"process_response\", process_response_q2)\n",
    "graph_builder_q2.add_node(\"inform_user\", inform_user_q2)\n",
    "\n",
    "# Define the edges with conditions\n",
    "graph_builder_q2.add_edge(START, \"process_response\")\n",
    "graph_builder_q2.add_conditional_edges(\"process_response\", check_completion_q2, {True: END, False: \"inform_user\"})\n",
    "graph_builder_q2.add_edge(\"inform_user\", END)\n",
    "\n",
    "# Compile the graph\n",
    "memory_q2 = MemorySaver()\n",
    "graph_q2 = graph_builder_q2.compile(checkpointer=memory_q2)\n",
    "display(Image(graph_q2.get_graph(xray=True).draw_mermaid_png()))"
   ]
  },
  {
   "cell_type": "code",
   "execution_count": 74,
   "metadata": {},
   "outputs": [
    {
     "name": "stdout",
     "output_type": "stream",
     "text": [
      "==================================\u001b[1m Ai Message \u001b[0m==================================\n",
      "\n",
      "Please share details on where your AI system is being placed or used, including any European Union connections.\n",
      "================================\u001b[1m Human Message \u001b[0m=================================\n",
      "\n",
      "I am building a legal chatbot for helping students of law.\n",
      "==================================\u001b[1m Ai Message \u001b[0m==================================\n",
      "\n",
      "I couldn't understand your response. To help me understand how your AI system is used, could you let me know if it's connected in any way to the European Union—either by being sold, serviced, or having its output used there?\n"
     ]
    }
   ],
   "source": [
    "prompt_input = \"I am building a legal chatbot for helping students of law.\"\n",
    "config = {\"configurable\": {\"thread_id\": 1}}\n",
    "result = graph_q2.invoke(\n",
    "    {\n",
    "        \"messages\": [\n",
    "            AIMessage(\n",
    "                content=\"Please share details on where your AI system is being placed or used, including any European Union connections.\"\n",
    "            ),\n",
    "            HumanMessage(prompt_input),\n",
    "        ]\n",
    "    },\n",
    "    config=config,\n",
    ")\n",
    "for m in result[\"messages\"]:\n",
    "    m.pretty_print()"
   ]
  },
  {
   "cell_type": "code",
   "execution_count": 75,
   "metadata": {},
   "outputs": [
    {
     "name": "stdout",
     "output_type": "stream",
     "text": [
      "==================================\u001b[1m Ai Message \u001b[0m==================================\n",
      "\n",
      "Please share details on where your AI system is being placed or used, including any European Union connections.\n",
      "================================\u001b[1m Human Message \u001b[0m=================================\n",
      "\n",
      "I am building a legal chatbot for helping students of law.\n",
      "==================================\u001b[1m Ai Message \u001b[0m==================================\n",
      "\n",
      "I couldn't understand your response. To help me understand how your AI system is used, could you let me know if it's connected in any way to the European Union—either by being sold, serviced, or having its output used there?\n",
      "================================\u001b[1m Human Message \u001b[0m=================================\n",
      "\n",
      "The system is being developed in France and will be used by students in the European Union.\n"
     ]
    }
   ],
   "source": [
    "result2 = graph_q2.invoke(\n",
    "    {\n",
    "        \"messages\": [\n",
    "            HumanMessage(\n",
    "                \"The system is being developed in France and will be used by students in the European Union.\"\n",
    "            )\n",
    "        ]\n",
    "    },\n",
    "    config=config,\n",
    ")\n",
    "for m in result2['messages']:\n",
    "    m.pretty_print()"
   ]
  },
  {
   "cell_type": "code",
   "execution_count": null,
   "metadata": {},
   "outputs": [
    {
     "ename": "NameError",
     "evalue": "name 'fdjkgfjg' is not defined",
     "output_type": "error",
     "traceback": [
      "\u001b[0;31m---------------------------------------------------------------------------\u001b[0m",
      "\u001b[0;31mNameError\u001b[0m                                 Traceback (most recent call last)",
      "Cell \u001b[0;32mIn[76], line 1\u001b[0m\n\u001b[0;32m----> 1\u001b[0m \u001b[43mfdjkgfjg\u001b[49m\n",
      "\u001b[0;31mNameError\u001b[0m: name 'fdjkgfjg' is not defined"
     ]
    }
   ],
   "source": []
  },
  {
   "cell_type": "code",
   "execution_count": null,
   "metadata": {},
   "outputs": [],
   "source": []
  }
 ],
 "metadata": {
  "kernelspec": {
   "display_name": "anna",
   "language": "python",
   "name": "python3"
  },
  "language_info": {
   "codemirror_mode": {
    "name": "ipython",
    "version": 3
   },
   "file_extension": ".py",
   "mimetype": "text/x-python",
   "name": "python",
   "nbconvert_exporter": "python",
   "pygments_lexer": "ipython3",
   "version": "3.12.7"
  }
 },
 "nbformat": 4,
 "nbformat_minor": 2
}
